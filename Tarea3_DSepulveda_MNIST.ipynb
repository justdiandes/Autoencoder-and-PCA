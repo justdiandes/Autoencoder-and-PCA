{
  "nbformat": 4,
  "nbformat_minor": 0,
  "metadata": {
    "colab": {
      "provenance": []
    },
    "kernelspec": {
      "name": "python3",
      "display_name": "Python 3"
    },
    "language_info": {
      "name": "python"
    }
  },
  "cells": [
    {
      "cell_type": "code",
      "source": [
        "import tensorflow as tf\n",
        "from tensorflow import keras\n",
        "import matplotlib.pyplot as plt\n",
        "import cv2\n",
        "import numpy as np\n",
        "#------------Descarga de dataset------------#\n",
        "(x_train, y_train), (x_test, y_test) = tf.keras.datasets.mnist.load_data()\n",
        "\n"
      ],
      "metadata": {
        "id": "_rGbXRCV8LM0"
      },
      "execution_count": null,
      "outputs": []
    },
    {
      "cell_type": "code",
      "source": [
        "x_train = x_train/255.0\n",
        "x_test = x_test/255.0"
      ],
      "metadata": {
        "id": "U8_7uWH8853I"
      },
      "execution_count": null,
      "outputs": []
    },
    {
      "cell_type": "code",
      "source": [
        "#------------Modelo autoencoder------------#\n",
        "\n",
        "encoder_input = keras.Input(shape=(28,28,1), name = \"ae_input\")\n",
        "flat = keras.layers.Flatten()(encoder_input) #Aplana los valores\n",
        "h_layer1 = keras.layers.Dense(588, activation=\"relu\")(flat)\n",
        "h_layer2 = keras.layers.Dense(392, activation=\"relu\")(h_layer1)\n",
        "h_layer3 = keras.layers.Dense(196, activation=\"relu\")(h_layer2)\n",
        "h_layer4 = keras.layers.Dense(5, activation=\"relu\")(h_layer3)\n",
        "\n",
        "encoder = keras.Model(encoder_input, h_layer4, name=\"encoder\") #Modelo encoder para poder visualizar imagen de 5 dimensiones\n",
        "\n",
        "h_layer5 = keras.layers.Dense(196, activation=\"relu\")(h_layer4)\n",
        "h_layer6 = keras.layers.Dense(392, activation=\"relu\")(h_layer5)\n",
        "h_layer7 = keras.layers.Dense(588, activation=\"relu\")(h_layer6)\n",
        "\n",
        "h_layer8 = keras.layers.Dense(784, activation=\"relu\")(h_layer7)\n",
        "\n",
        "#En este paso de vuelve a tener un vector de valores de 28x28x1\n",
        "\n",
        "decoder_output = keras.layers.Reshape((28,28,1))(h_layer8)\n",
        "\n",
        "opt = keras.optimizers.Adam(learning_rate = 0.001, decay = 1e-6)\n",
        "\n",
        "autoencoder = keras.Model(encoder_input, decoder_output, name = \"autoencoder\") #Creación modelo autoencoder\n",
        "autoencoder.summary()\n"
      ],
      "metadata": {
        "colab": {
          "base_uri": "https://localhost:8080/"
        },
        "id": "U4PwxJ3i92wV",
        "outputId": "1f1cea64-70bb-460e-fbf5-04dce17ef733"
      },
      "execution_count": null,
      "outputs": [
        {
          "output_type": "stream",
          "name": "stdout",
          "text": [
            "Model: \"autoencoder\"\n",
            "_________________________________________________________________\n",
            " Layer (type)                Output Shape              Param #   \n",
            "=================================================================\n",
            " img (InputLayer)            [(None, 28, 28, 1)]       0         \n",
            "                                                                 \n",
            " flatten_1 (Flatten)         (None, 784)               0         \n",
            "                                                                 \n",
            " dense_8 (Dense)             (None, 588)               461580    \n",
            "                                                                 \n",
            " dense_9 (Dense)             (None, 392)               230888    \n",
            "                                                                 \n",
            " dense_10 (Dense)            (None, 196)               77028     \n",
            "                                                                 \n",
            " dense_11 (Dense)            (None, 5)                 985       \n",
            "                                                                 \n",
            " dense_12 (Dense)            (None, 196)               1176      \n",
            "                                                                 \n",
            " dense_13 (Dense)            (None, 392)               77224     \n",
            "                                                                 \n",
            " dense_14 (Dense)            (None, 588)               231084    \n",
            "                                                                 \n",
            " dense_15 (Dense)            (None, 784)               461776    \n",
            "                                                                 \n",
            " reshape_1 (Reshape)         (None, 28, 28, 1)         0         \n",
            "                                                                 \n",
            "=================================================================\n",
            "Total params: 1,541,741\n",
            "Trainable params: 1,541,741\n",
            "Non-trainable params: 0\n",
            "_________________________________________________________________\n"
          ]
        }
      ]
    },
    {
      "cell_type": "code",
      "source": [
        "autoencoder.compile(opt, loss=\"mse\")"
      ],
      "metadata": {
        "id": "1GQndJZ8AS6w"
      },
      "execution_count": null,
      "outputs": []
    },
    {
      "cell_type": "code",
      "source": [
        "autoencoder.fit(x_train, x_train, epochs=50, batch_size=32, validation_split=0.1)"
      ],
      "metadata": {
        "colab": {
          "base_uri": "https://localhost:8080/"
        },
        "id": "FaAoAmbE_9K2",
        "outputId": "b40bd6af-b999-4347-a4dc-52d0e235aefb"
      },
      "execution_count": null,
      "outputs": [
        {
          "output_type": "stream",
          "name": "stdout",
          "text": [
            "Epoch 1/50\n",
            "1688/1688 [==============================] - 44s 25ms/step - loss: 0.0354 - val_loss: 0.0287\n",
            "Epoch 2/50\n",
            "1688/1688 [==============================] - 42s 25ms/step - loss: 0.0278 - val_loss: 0.0266\n",
            "Epoch 3/50\n",
            "1688/1688 [==============================] - 43s 25ms/step - loss: 0.0256 - val_loss: 0.0247\n",
            "Epoch 4/50\n",
            "1688/1688 [==============================] - 43s 26ms/step - loss: 0.0242 - val_loss: 0.0237\n",
            "Epoch 5/50\n",
            "1688/1688 [==============================] - 41s 24ms/step - loss: 0.0234 - val_loss: 0.0231\n",
            "Epoch 6/50\n",
            "1688/1688 [==============================] - 42s 25ms/step - loss: 0.0228 - val_loss: 0.0229\n",
            "Epoch 7/50\n",
            "1688/1688 [==============================] - 44s 26ms/step - loss: 0.0224 - val_loss: 0.0226\n",
            "Epoch 8/50\n",
            "1688/1688 [==============================] - 45s 27ms/step - loss: 0.0220 - val_loss: 0.0225\n",
            "Epoch 9/50\n",
            "1688/1688 [==============================] - 45s 26ms/step - loss: 0.0217 - val_loss: 0.0223\n",
            "Epoch 10/50\n",
            "1688/1688 [==============================] - 44s 26ms/step - loss: 0.0214 - val_loss: 0.0218\n",
            "Epoch 11/50\n",
            "1688/1688 [==============================] - 45s 26ms/step - loss: 0.0212 - val_loss: 0.0217\n",
            "Epoch 12/50\n",
            "1688/1688 [==============================] - 45s 26ms/step - loss: 0.0209 - val_loss: 0.0219\n",
            "Epoch 13/50\n",
            "1688/1688 [==============================] - 44s 26ms/step - loss: 0.0208 - val_loss: 0.0215\n",
            "Epoch 14/50\n",
            "1688/1688 [==============================] - 43s 26ms/step - loss: 0.0206 - val_loss: 0.0219\n",
            "Epoch 15/50\n",
            "1688/1688 [==============================] - 47s 28ms/step - loss: 0.0205 - val_loss: 0.0213\n",
            "Epoch 16/50\n",
            "1688/1688 [==============================] - 46s 27ms/step - loss: 0.0203 - val_loss: 0.0215\n",
            "Epoch 17/50\n",
            "1688/1688 [==============================] - 45s 27ms/step - loss: 0.0201 - val_loss: 0.0213\n",
            "Epoch 18/50\n",
            "1688/1688 [==============================] - 45s 27ms/step - loss: 0.0200 - val_loss: 0.0209\n",
            "Epoch 19/50\n",
            "1688/1688 [==============================] - 44s 26ms/step - loss: 0.0199 - val_loss: 0.0212\n",
            "Epoch 20/50\n",
            "1688/1688 [==============================] - 46s 27ms/step - loss: 0.0198 - val_loss: 0.0210\n",
            "Epoch 21/50\n",
            "1688/1688 [==============================] - 44s 26ms/step - loss: 0.0197 - val_loss: 0.0210\n",
            "Epoch 22/50\n",
            "1688/1688 [==============================] - 45s 27ms/step - loss: 0.0197 - val_loss: 0.0211\n",
            "Epoch 23/50\n",
            "1688/1688 [==============================] - 44s 26ms/step - loss: 0.0196 - val_loss: 0.0210\n",
            "Epoch 24/50\n",
            "1688/1688 [==============================] - 43s 25ms/step - loss: 0.0195 - val_loss: 0.0212\n",
            "Epoch 25/50\n",
            "1688/1688 [==============================] - 45s 27ms/step - loss: 0.0194 - val_loss: 0.0208\n",
            "Epoch 26/50\n",
            "1688/1688 [==============================] - 45s 27ms/step - loss: 0.0193 - val_loss: 0.0211\n",
            "Epoch 27/50\n",
            "1688/1688 [==============================] - 42s 25ms/step - loss: 0.0193 - val_loss: 0.0210\n",
            "Epoch 28/50\n",
            "1688/1688 [==============================] - 41s 24ms/step - loss: 0.0192 - val_loss: 0.0209\n",
            "Epoch 29/50\n",
            "1688/1688 [==============================] - 44s 26ms/step - loss: 0.0191 - val_loss: 0.0209\n",
            "Epoch 30/50\n",
            "1688/1688 [==============================] - 46s 27ms/step - loss: 0.0191 - val_loss: 0.0209\n",
            "Epoch 31/50\n",
            "1688/1688 [==============================] - 45s 27ms/step - loss: 0.0190 - val_loss: 0.0208\n",
            "Epoch 32/50\n",
            "1688/1688 [==============================] - 44s 26ms/step - loss: 0.0190 - val_loss: 0.0210\n",
            "Epoch 33/50\n",
            "1688/1688 [==============================] - 44s 26ms/step - loss: 0.0189 - val_loss: 0.0210\n",
            "Epoch 34/50\n",
            "1688/1688 [==============================] - 45s 27ms/step - loss: 0.0189 - val_loss: 0.0209\n",
            "Epoch 35/50\n",
            "1688/1688 [==============================] - 45s 27ms/step - loss: 0.0188 - val_loss: 0.0208\n",
            "Epoch 36/50\n",
            "1688/1688 [==============================] - 43s 26ms/step - loss: 0.0188 - val_loss: 0.0208\n",
            "Epoch 37/50\n",
            "1688/1688 [==============================] - 43s 26ms/step - loss: 0.0187 - val_loss: 0.0207\n",
            "Epoch 38/50\n",
            "1688/1688 [==============================] - 42s 25ms/step - loss: 0.0187 - val_loss: 0.0210\n",
            "Epoch 39/50\n",
            "1688/1688 [==============================] - 45s 26ms/step - loss: 0.0187 - val_loss: 0.0210\n",
            "Epoch 40/50\n",
            "1688/1688 [==============================] - 44s 26ms/step - loss: 0.0186 - val_loss: 0.0209\n",
            "Epoch 41/50\n",
            "1688/1688 [==============================] - 43s 25ms/step - loss: 0.0186 - val_loss: 0.0208\n",
            "Epoch 42/50\n",
            "1688/1688 [==============================] - 43s 26ms/step - loss: 0.0185 - val_loss: 0.0207\n",
            "Epoch 43/50\n",
            "1688/1688 [==============================] - 43s 25ms/step - loss: 0.0185 - val_loss: 0.0209\n",
            "Epoch 44/50\n",
            "1688/1688 [==============================] - 45s 26ms/step - loss: 0.0185 - val_loss: 0.0209\n",
            "Epoch 45/50\n",
            "1688/1688 [==============================] - 45s 27ms/step - loss: 0.0184 - val_loss: 0.0210\n",
            "Epoch 46/50\n",
            "1688/1688 [==============================] - 43s 25ms/step - loss: 0.0184 - val_loss: 0.0207\n",
            "Epoch 47/50\n",
            "1688/1688 [==============================] - 43s 25ms/step - loss: 0.0183 - val_loss: 0.0211\n",
            "Epoch 48/50\n",
            "1688/1688 [==============================] - 42s 25ms/step - loss: 0.0183 - val_loss: 0.0208\n",
            "Epoch 49/50\n",
            "1688/1688 [==============================] - 46s 27ms/step - loss: 0.0183 - val_loss: 0.0207\n",
            "Epoch 50/50\n",
            "1688/1688 [==============================] - 46s 27ms/step - loss: 0.0182 - val_loss: 0.0210\n"
          ]
        },
        {
          "output_type": "execute_result",
          "data": {
            "text/plain": [
              "<keras.callbacks.History at 0x7f105fafac50>"
            ]
          },
          "metadata": {},
          "execution_count": 8
        }
      ]
    },
    {
      "cell_type": "code",
      "source": [
        "predict_autoencoder = encoder.predict([x_test[0].reshape(-1,28,28,1)])[0]\n",
        "print(predict_autoencoder)\n"
      ],
      "metadata": {
        "colab": {
          "base_uri": "https://localhost:8080/"
        },
        "id": "ujdkA0KrAe7l",
        "outputId": "4a7d4ace-4341-4ab7-a394-f8e5cc70505c"
      },
      "execution_count": null,
      "outputs": [
        {
          "output_type": "stream",
          "name": "stdout",
          "text": [
            "1/1 [==============================] - 0s 21ms/step\n",
            "[ 646.6637   388.8617    89.8376  1005.5409   125.09917]\n"
          ]
        }
      ]
    },
    {
      "cell_type": "code",
      "source": [
        "plt.title(\"Componente principal de un parámetro\")\n",
        "plt.imshow(predict_autoencoder.reshape((5,1)), cmap=\"gray\")"
      ],
      "metadata": {
        "colab": {
          "base_uri": "https://localhost:8080/",
          "height": 298
        },
        "id": "NiY2hoQEA41W",
        "outputId": "6397ede2-5448-4580-a2ff-f9d7cf525ad9"
      },
      "execution_count": null,
      "outputs": [
        {
          "output_type": "execute_result",
          "data": {
            "text/plain": [
              "<matplotlib.image.AxesImage at 0x7f105cf7a910>"
            ]
          },
          "metadata": {},
          "execution_count": 227
        },
        {
          "output_type": "display_data",
          "data": {
            "text/plain": [
              "<Figure size 432x288 with 1 Axes>"
            ],
            "image/png": "[encoded data removed]"
          },
          "metadata": {
            "needs_background": "light"
          }
        }
      ]
    },
    {
      "cell_type": "code",
      "source": [
        "ae_out = autoencoder.predict([x_test[100].reshape(-1,28,28,1)])[0]\n"
      ],
      "metadata": {
        "colab": {
          "base_uri": "https://localhost:8080/"
        },
        "id": "nJAAGgbPBYy_",
        "outputId": "3365d2b9-b3db-49dd-c61a-8853fc8387cd"
      },
      "execution_count": null,
      "outputs": [
        {
          "output_type": "stream",
          "name": "stdout",
          "text": [
            "1/1 [==============================] - 0s 19ms/step\n"
          ]
        }
      ]
    },
    {
      "cell_type": "code",
      "source": [
        "plt.subplot(1,2,1)\n",
        "plt.title(\"Imagen original\")\n",
        "plt.imshow(x_test[100],cmap=\"gray\")\n",
        "plt.subplot(1,2,2)\n",
        "plt.title(\"Reconstrucción autoencoder\")\n",
        "plt.imshow(ae_out.reshape(28,28),cmap=\"gray\")"
      ],
      "metadata": {
        "colab": {
          "base_uri": "https://localhost:8080/",
          "height": 233
        },
        "id": "I_PcjksEBlhY",
        "outputId": "ec8dff04-0124-4abe-979c-750b8b62719b"
      },
      "execution_count": null,
      "outputs": [
        {
          "output_type": "execute_result",
          "data": {
            "text/plain": [
              "<matplotlib.image.AxesImage at 0x7f10476a5a50>"
            ]
          },
          "metadata": {},
          "execution_count": 228
        },
        {
          "output_type": "display_data",
          "data": {
            "text/plain": [
              "<Figure size 432x288 with 2 Axes>"
            ],
            "image/png": "[encoded data removed]"
          },
          "metadata": {
            "needs_background": "light"
          }
        }
      ]
    },
    {
      "cell_type": "code",
      "source": [
        "#----------------Creación PCA-------------------#\n",
        "\n",
        "from sklearn.decomposition import PCA #Descargamos PCA de lib sklearn\n",
        "pca = PCA(n_components = 5) #Cantidad de componentes principales a la cual se disminuye imagen\n",
        "\n",
        "x_train_flat = x_train.reshape((60000, 28*28))\n",
        "x_test_flat = x_test.reshape((10000, 28*28))\n",
        "PC_train = pca.fit_transform(x_train_flat)\n",
        "PC_test = pca.fit_transform(x_test_flat)\n",
        "\n",
        "\n",
        "\n",
        "plt.title(\"Componente principal de un parámetro\")\n",
        "plt.imshow(PC_train[0].reshape(5,1), cmap=\"gray\")"
      ],
      "metadata": {
        "colab": {
          "base_uri": "https://localhost:8080/",
          "height": 298
        },
        "id": "-54hZ1-0L883",
        "outputId": "95185f79-c8d6-4e3b-a775-81288ce48e2f"
      },
      "execution_count": null,
      "outputs": [
        {
          "output_type": "execute_result",
          "data": {
            "text/plain": [
              "<matplotlib.image.AxesImage at 0x7f104be257d0>"
            ]
          },
          "metadata": {},
          "execution_count": 215
        },
        {
          "output_type": "display_data",
          "data": {
            "text/plain": [
              "<Figure size 432x288 with 1 Axes>"
            ],
            "image/png": "[encoded data removed]"
          },
          "metadata": {
            "needs_background": "light"
          }
        }
      ]
    },
    {
      "cell_type": "code",
      "source": [
        "#--------------Modelo para reconstruir PCA---------------------#\n",
        "\n",
        "decoder_input = keras.Input(shape=(5,), name = \"principal_component\")\n",
        "h_layer1 = keras.layers.Dense(196, activation=\"relu\")(decoder_input)\n",
        "h_layer2 = keras.layers.Dense(392, activation=\"relu\")(h_layer1)\n",
        "h_layer3 = keras.layers.Dense(588, activation=\"relu\")(h_layer2)\n",
        "h_layer4 = keras.layers.Dense(784, activation=\"relu\")(h_layer3)\n",
        "decoder_output = keras.layers.Reshape((28,28,1))(h_layer4)\n",
        "\n",
        "opt = keras.optimizers.Adam(learning_rate = 0.001, decay = 1e-6)\n",
        "\n",
        "decoder = keras.Model(decoder_input, decoder_output, name = \"decoder\")\n",
        "\n",
        "decoder.compile(opt, loss=\"mse\")\n",
        "decoder.summary()\n"
      ],
      "metadata": {
        "colab": {
          "base_uri": "https://localhost:8080/"
        },
        "id": "YNOjvZu0V33x",
        "outputId": "c61fcead-d131-4af9-90a3-f761343afcb5"
      },
      "execution_count": null,
      "outputs": [
        {
          "output_type": "stream",
          "name": "stdout",
          "text": [
            "Model: \"decoder\"\n",
            "_________________________________________________________________\n",
            " Layer (type)                Output Shape              Param #   \n",
            "=================================================================\n",
            " principal_component (InputL  [(None, 5)]              0         \n",
            " ayer)                                                           \n",
            "                                                                 \n",
            " dense_104 (Dense)           (None, 196)               1176      \n",
            "                                                                 \n",
            " dense_105 (Dense)           (None, 392)               77224     \n",
            "                                                                 \n",
            " dense_106 (Dense)           (None, 588)               231084    \n",
            "                                                                 \n",
            " dense_107 (Dense)           (None, 784)               461776    \n",
            "                                                                 \n",
            " reshape_9 (Reshape)         (None, 28, 28, 1)         0         \n",
            "                                                                 \n",
            "=================================================================\n",
            "Total params: 771,260\n",
            "Trainable params: 771,260\n",
            "Non-trainable params: 0\n",
            "_________________________________________________________________\n"
          ]
        }
      ]
    },
    {
      "cell_type": "code",
      "source": [
        "decoder.fit(PC_train, x_train, epochs=5, batch_size=32, validation_split=0.1)"
      ],
      "metadata": {
        "colab": {
          "base_uri": "https://localhost:8080/"
        },
        "id": "KQ-tSpR0Xn9O",
        "outputId": "c510141f-6190-4bb1-8b15-34f5083dc4f1"
      },
      "execution_count": null,
      "outputs": [
        {
          "output_type": "stream",
          "name": "stdout",
          "text": [
            "Epoch 1/5\n",
            "1688/1688 [==============================] - 26s 15ms/step - loss: 0.0379 - val_loss: 0.0345\n",
            "Epoch 2/5\n",
            "1688/1688 [==============================] - 25s 15ms/step - loss: 0.0345 - val_loss: 0.0335\n",
            "Epoch 3/5\n",
            "1688/1688 [==============================] - 24s 14ms/step - loss: 0.0337 - val_loss: 0.0329\n",
            "Epoch 4/5\n",
            "1688/1688 [==============================] - 24s 14ms/step - loss: 0.0333 - val_loss: 0.0328\n",
            "Epoch 5/5\n",
            "1688/1688 [==============================] - 27s 16ms/step - loss: 0.0330 - val_loss: 0.0326\n"
          ]
        },
        {
          "output_type": "execute_result",
          "data": {
            "text/plain": [
              "<keras.callbacks.History at 0x7f1047ba30d0>"
            ]
          },
          "metadata": {},
          "execution_count": 190
        }
      ]
    },
    {
      "cell_type": "code",
      "source": [
        "predict = decoder.predict(PC_test)\n"
      ],
      "metadata": {
        "colab": {
          "base_uri": "https://localhost:8080/"
        },
        "id": "eScZAlGCZR9o",
        "outputId": "a6ec731e-b87a-40f8-a5b6-ea94866eec4a"
      },
      "execution_count": null,
      "outputs": [
        {
          "output_type": "stream",
          "name": "stdout",
          "text": [
            "313/313 [==============================] - 1s 5ms/step\n"
          ]
        }
      ]
    },
    {
      "cell_type": "code",
      "source": [
        "plt.subplot(1,2,1)\n",
        "plt.title(\"Imagen original\")\n",
        "plt.imshow(x_test[3], cmap=\"gray\")\n",
        "plt.subplot(1,2,2)\n",
        "plt.title(\"Reconstrucción PCA\")\n",
        "plt.imshow(predict[3].reshape(28,28),cmap=\"gray\")\n"
      ],
      "metadata": {
        "colab": {
          "base_uri": "https://localhost:8080/",
          "height": 233
        },
        "id": "lPMQNvl8hP5S",
        "outputId": "8024da8f-2ea1-4a6c-9081-75fd1be264e4"
      },
      "execution_count": null,
      "outputs": [
        {
          "output_type": "execute_result",
          "data": {
            "text/plain": [
              "<matplotlib.image.AxesImage at 0x7f105c9dafd0>"
            ]
          },
          "metadata": {},
          "execution_count": 235
        },
        {
          "output_type": "display_data",
          "data": {
            "text/plain": [
              "<Figure size 432x288 with 2 Axes>"
            ],
            "image/png": "[encoded data removed]"
          },
          "metadata": {
            "needs_background": "light"
          }
        }
      ]
    },
    {
      "cell_type": "markdown",
      "source": [
        "Para ambas implementaciones se encuentra que el autoencoder predice las imágenes del dataset de manera efectiva. Además se tiene que la implementación de PCA no es muy eficiente, pudiendo reconstruir solo algunas de las imágenes.\n"
      ],
      "metadata": {
        "id": "SrEDts1BsMbd"
      }
    }
  ]
}